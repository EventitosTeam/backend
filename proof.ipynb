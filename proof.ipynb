{
 "cells": [
  {
   "cell_type": "code",
   "execution_count": 1,
   "metadata": {},
   "outputs": [
    {
     "data": {
      "image/png": "[encoded data removed]",
      "text/plain": [
       "<Figure size 432x288 with 1 Axes>"
      ]
     },
     "metadata": {
      "needs_background": "light"
     },
     "output_type": "display_data"
    }
   ],
   "source": [
    "import numpy as np\n",
    "import matplotlib.pyplot as plt\n",
    "from matplotlib.animation import FuncAnimation\n",
    "\n",
    "def van_der_pol(x, y, mu, dt):\n",
    "    dx = y\n",
    "    dy = mu * (1 - x**2) * y - x\n",
    "    return x + dx * dt, y + dy * dt\n",
    "\n",
    "# Set the parameters of the simulation\n",
    "mu = 2.0\n",
    "dt = 0.01\n",
    "\n",
    "# Set the initial state of the oscillator\n",
    "x = 1.0\n",
    "y = 0.0\n",
    "\n",
    "# Simulate the oscillator for 10000 time steps\n",
    "t = np.arange(0, 100, dt)\n",
    "x_t = np.zeros_like(t)\n",
    "y_t = np.zeros_like(t)\n",
    "for i in range(len(t)):\n",
    "    x, y = van_der_pol(x, y, mu, dt)\n",
    "    x_t[i] = x\n",
    "    y_t[i] = y\n",
    "\n",
    "# Create the figure and axis\n",
    "fig, ax = plt.subplots()\n",
    "line, = ax.plot([], [], color='blue')\n",
    "ax.set_xlim(0, 100)\n",
    "ax.set_ylim(np.min(x_t), np.max(x_t))\n",
    "ax.set_xlabel('Time')\n",
    "ax.set_ylabel('x(t)')\n",
    "ax.set_title('Van der Pol Oscillator Animation')\n",
    "\n",
    "# Initialization function\n",
    "def init():\n",
    "    line.set_data([], [])\n",
    "    return line,\n",
    "\n",
    "# Animation function\n",
    "def animate(i):\n",
    "    line.set_data(t[:i], x_t[:i])\n",
    "    return line,\n",
    "\n",
    "# Create the animation\n",
    "ani = FuncAnimation(fig, animate, init_func=init, frames=len(t), interval=20, blit=True)\n",
    "\n",
    "plt.show()\n"
   ]
  }
 ],
 "metadata": {
  "kernelspec": {
   "display_name": "Python 3",
   "language": "python",
   "name": "python3"
  },
  "language_info": {
   "name": "python",
   "version": "3.10.2"
  }
 },
 "nbformat": 4,
 "nbformat_minor": 2
}
